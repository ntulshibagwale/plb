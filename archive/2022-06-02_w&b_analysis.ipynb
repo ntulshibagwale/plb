{
 "cells": [
  {
   "cell_type": "code",
   "execution_count": 1,
   "id": "7bf42759",
   "metadata": {},
   "outputs": [],
   "source": [
    "import os\n",
    "from ae_functions import get_folder_pickle_files\n",
    "from load_data import *\n",
    "import matplotlib.pyplot as plt\n",
    "from ae_functions import *\n",
    "from torch.utils.data import DataLoader\n",
    "import numpy as np\n",
    "from acoustic_emission_dataset import AcousticEmissionDataset"
   ]
  },
  {
   "cell_type": "markdown",
   "id": "a1b5759a",
   "metadata": {},
   "source": [
    "# Load AE Dataset"
   ]
  },
  {
   "cell_type": "code",
   "execution_count": 2,
   "id": "d08705da",
   "metadata": {},
   "outputs": [
    {
     "name": "stdout",
     "output_type": "stream",
     "text": [
      "targets_one_hot is the one hot encoding for angle. ex: [1 0 1]\n",
      "\n",
      "Shape of waves is: torch.Size([514, 1024])\n",
      "Datatype of waves is: torch.float32\n",
      "waves requires grad: False\n",
      "Shape of targets is: torch.Size([514])\n",
      "Datatype of targets is: torch.int64\n",
      "targets requires grad: False\n",
      "Ex: 0\n",
      "Shape of targets_one_hot is: torch.Size([514, 6])\n",
      "Datatype of targets_one_hot is: torch.float32\n",
      "targets_one_hot requires grad: False\n",
      "Ex: tensor([1, 0, 0, 0, 0, 0])\n",
      "\n",
      "AcousticEmissionDataset loaded in!\n",
      "\n",
      "Available angles: ['20deg' '22deg' '26deg' '30deg' '36deg' '40deg']\n"
     ]
    }
   ],
   "source": [
    "# SIGNAL PROCESSING CONSTANTS\n",
    "SIG_LEN = 1024           # [samples / signal] ;\n",
    "DT = 10**-7              # [seconds] ; sample period / time between samples\n",
    "LOW_PASS = 0      # [Hz] ; low frequency cutoff\n",
    "HIGH_PASS = 100*10**4    # [Hz] ; high frequency cutoff\n",
    "FFT_UNITS = 1000         # FFT outputs in Hz, this converts to kHz\n",
    "NUM_BINS = 26            # For partial power\n",
    "\n",
    "# FILE I/O\n",
    "JSON_DATA_FILE = 'E:/file_cabinet/phd/projects/plb_dataset_supervised_learning/Data/220426_PLB_data.json'\n",
    "\n",
    "# Load AE data\n",
    "ae_dataset = AcousticEmissionDataset(JSON_DATA_FILE,SIG_LEN,DT,LOW_PASS,\n",
    "                                     HIGH_PASS,FFT_UNITS,NUM_BINS,0,0)\n",
    "total_count = len(ae_dataset)\n",
    "test_percent = 1 - 0.8\n",
    "train_count = int(0.8 * total_count)\n",
    "test_count = total_count - train_count\n",
    "torch.manual_seed(41) \n",
    "train, test = torch.utils.data.random_split(ae_dataset,\n",
    "                                                  (train_count,\n",
    "                                                    test_count))\n",
    "\n",
    "angles = ae_dataset.angles # what the one hot encoded targets map to\n",
    "num_classes = len(angles)  # how many diff angles, for model output dim\n",
    "example_feature_vec, _ = ae_dataset[0] # to determine feature dim\n",
    "feature_dim = example_feature_vec.shape[0] # for model creation input dim\n",
    "\n",
    "print(f\"Available angles: {angles}\")"
   ]
  },
  {
   "cell_type": "markdown",
   "id": "5668d42f",
   "metadata": {},
   "source": [
    "# Load Trained Model"
   ]
  },
  {
   "cell_type": "code",
   "execution_count": 38,
   "id": "32b5ec2b",
   "metadata": {},
   "outputs": [
    {
     "name": "stdout",
     "output_type": "stream",
     "text": [
      "NeuralNetwork_01(\n",
      "  (layers): Sequential(\n",
      "    (0): Linear(in_features=1024, out_features=20, bias=True)\n",
      "    (1): ReLU()\n",
      "    (2): Linear(in_features=20, out_features=6, bias=True)\n",
      "  )\n",
      ")\n"
     ]
    },
    {
     "data": {
      "text/plain": [
       "OrderedDict([('layers.0.weight',\n",
       "              tensor([[-2.0924e-01, -1.9225e-01, -1.4448e-01,  ..., -3.4469e-01,\n",
       "                       -2.9842e-01, -1.7765e-01],\n",
       "                      [-2.4719e-02, -2.6589e-03, -3.3020e-02,  ...,  2.8793e-03,\n",
       "                        3.2809e-02,  2.3550e-02],\n",
       "                      [-3.2771e-02, -1.5035e-02, -5.6243e-03,  ..., -1.7003e-02,\n",
       "                       -1.0280e-03, -1.8324e-02],\n",
       "                      ...,\n",
       "                      [ 5.4114e-01,  6.2828e-01,  8.4444e-01,  ...,  2.0335e-01,\n",
       "                        1.9232e-01,  1.9416e-01],\n",
       "                      [-9.2593e-01, -1.2193e+00, -1.1831e+00,  ..., -3.0139e-01,\n",
       "                       -1.7542e-01, -4.2762e-02],\n",
       "                      [-1.1876e-02,  2.5473e-02, -2.5260e-02,  ..., -2.3421e-03,\n",
       "                        2.5627e-02, -1.0742e-02]])),\n",
       "             ('layers.0.bias',\n",
       "              tensor([ 0.2128,  0.0044, -0.0013,  0.1789,  0.0060,  0.0127, -0.0128, -0.3613,\n",
       "                      -0.0015, -0.0375,  0.1756, -0.1068,  0.1091,  0.4400,  0.1277,  0.5145,\n",
       "                      -0.0289, -0.4771, -0.3290, -0.0149])),\n",
       "             ('layers.2.weight',\n",
       "              tensor([[ 7.1800e-02, -1.2041e-01, -4.3162e-02, -3.0215e-02, -4.6895e-02,\n",
       "                        3.0860e-02,  1.4327e-01,  3.1550e-01, -1.0930e-01,  1.9036e-02,\n",
       "                       -3.9535e-01,  6.9038e-04, -4.1629e-02, -5.6252e-02,  7.0562e-02,\n",
       "                       -2.9819e-02, -4.2223e-01, -2.8927e-02,  2.6076e-01, -1.5881e-02],\n",
       "                      [ 1.9383e-01,  3.8956e-02, -1.1929e-01, -2.6273e-01,  2.0767e-02,\n",
       "                        1.4440e-02, -6.2066e-02, -1.2196e+00, -3.2230e-01,  1.1738e-01,\n",
       "                        1.5635e+00,  1.4188e-01, -2.8756e-01, -3.3482e-01,  4.1977e-02,\n",
       "                        1.3883e-01, -3.4862e-01, -2.0895e-02,  1.2303e-01, -4.5364e-02],\n",
       "                      [ 1.1665e-01, -1.6304e-01,  2.0214e-01, -7.2420e-03, -1.8814e-01,\n",
       "                       -4.4240e-02, -1.3662e-01,  7.8269e-01,  1.0323e-01, -3.6782e-03,\n",
       "                       -1.3106e+00,  5.5435e-02,  1.2844e-01, -2.5252e-02,  5.4070e-02,\n",
       "                       -4.4350e-03,  8.6073e-01, -3.2545e-02, -7.6767e-01,  1.1254e-02],\n",
       "                      [-7.0901e-01,  4.0561e-02, -3.3749e-02,  4.9780e-01, -1.3300e-01,\n",
       "                       -1.3321e-01,  1.0267e-02,  1.4626e-01,  8.7289e-02, -7.4169e-02,\n",
       "                        1.2863e-02, -6.2408e-01, -1.2523e-01,  8.6260e-01, -3.5241e-01,\n",
       "                        1.0751e+00,  2.8870e-02, -5.7115e-01,  1.9215e-01,  4.6579e-02],\n",
       "                      [-3.7973e-02, -1.2752e-01, -1.5292e-01, -3.4589e-02, -8.9757e-02,\n",
       "                       -1.3487e-02, -2.9442e-02,  3.0435e-02,  3.3398e-01,  3.1233e-01,\n",
       "                        2.2237e-01, -8.6177e-01,  8.7782e-02, -1.0878e+00,  2.2182e-01,\n",
       "                       -5.7028e-01, -3.7572e-02,  5.5545e-01,  2.6278e-01,  6.0960e-02],\n",
       "                      [ 3.5163e-01, -1.1764e-01, -1.6428e-01, -1.5540e-01, -1.8444e-01,\n",
       "                        9.8269e-02,  1.9083e-01, -8.6319e-02, -5.9761e-02, -3.7118e-01,\n",
       "                       -9.0281e-02,  1.2851e+00,  1.2159e-01,  6.5983e-01,  9.5497e-02,\n",
       "                       -5.8203e-01, -5.4335e-02,  1.2040e-01, -6.8178e-02, -1.5803e-01]])),\n",
       "             ('layers.2.bias',\n",
       "              tensor([ 0.1420,  0.3848, -0.1008,  0.1909,  0.3125,  0.0170]))])"
      ]
     },
     "execution_count": 38,
     "metadata": {},
     "output_type": "execute_result"
    }
   ],
   "source": [
    "pth_path = './expert-sweep-6.pth'\n",
    "model_num = 1\n",
    "feature_dim = 1024\n",
    "model = load_model(pth_path, model_num, feature_dim,num_classes=6)\n",
    "torch.load(pth_path)"
   ]
  },
  {
   "cell_type": "markdown",
   "id": "cef45a60",
   "metadata": {},
   "source": [
    "# Evaluated Trained Model on Waveforms of Specific Angle"
   ]
  },
  {
   "cell_type": "code",
   "execution_count": 10,
   "id": "a9ac3a04",
   "metadata": {},
   "outputs": [],
   "source": [
    "\n",
    "def make_loader(dataset, batch_size):\n",
    "    loader = torch.utils.data.DataLoader(dataset=dataset,\n",
    "                                         batch_size=batch_size, \n",
    "                                         shuffle=True,\n",
    "                                         pin_memory=True, num_workers=2)\n",
    "    return loader\n",
    "\n",
    "train_loader = make_loader(train, batch_size=10)\n",
    "test_loader = make_loader(test, batch_size=10)"
   ]
  },
  {
   "cell_type": "code",
   "execution_count": 26,
   "id": "c01ac7de",
   "metadata": {},
   "outputs": [
    {
     "data": {
      "text/plain": [
       "<Figure size 360x216 with 0 Axes>"
      ]
     },
     "metadata": {},
     "output_type": "display_data"
    }
   ],
   "source": [
    "# Evaluate model accuracy on test data set\n",
    "\n",
    "model.eval()\n",
    "\n",
    "with torch.no_grad():\n",
    "    \n",
    "    test_predicted = []\n",
    "    test_actual = []\n",
    "\n",
    "    for inputs, targets in test_data_loader:\n",
    "        \n",
    "        prediction = model(inputs) # Tensor (1,3) -> ex. [0.1, 0.01,0.6]\n",
    "        \n",
    "        prediction = prediction[0].argmax()\n",
    "        actual = targets[0].argmax()\n",
    "        \n",
    "        test_predicted.append(prediction) # ex. [0,0,1]\n",
    "        test_actual.append(actual)\n",
    "        \n",
    "# Obnoxious data type converting\n",
    "test_actual = torch.tensor(test_actual, device = 'cpu')\n",
    "test_predicted = torch.tensor(test_predicted, device = 'cpu')"
   ]
  },
  {
   "cell_type": "code",
   "execution_count": 35,
   "id": "e321f9e8",
   "metadata": {},
   "outputs": [
    {
     "name": "stdout",
     "output_type": "stream",
     "text": [
      "              precision    recall  f1-score   support\n",
      "\n",
      "       20deg       1.00      1.00      1.00        20\n",
      "       22deg       0.93      1.00      0.97        14\n",
      "       26deg       1.00      0.95      0.97        20\n",
      "       30deg       1.00      0.94      0.97        18\n",
      "       36deg       0.93      0.93      0.93        15\n",
      "       40deg       0.94      1.00      0.97        16\n",
      "\n",
      "    accuracy                           0.97       103\n",
      "   macro avg       0.97      0.97      0.97       103\n",
      "weighted avg       0.97      0.97      0.97       103\n",
      "\n"
     ]
    }
   ],
   "source": [
    "from sklearn.metrics import classification_report\n",
    "print(classification_report(test_predicted,test_actual,\n",
    "                                target_names=angles))"
   ]
  },
  {
   "cell_type": "markdown",
   "id": "1aae29a2",
   "metadata": {},
   "source": [
    "# Visualize Predictions"
   ]
  },
  {
   "cell_type": "code",
   "execution_count": 5,
   "id": "ca05023e",
   "metadata": {
    "scrolled": true
   },
   "outputs": [
    {
     "ename": "NameError",
     "evalue": "name 'test_predicted' is not defined",
     "output_type": "error",
     "traceback": [
      "\u001b[1;31m---------------------------------------------------------------------------\u001b[0m",
      "\u001b[1;31mNameError\u001b[0m                                 Traceback (most recent call last)",
      "\u001b[1;32m~\\AppData\\Local\\Temp/ipykernel_27364/3582674389.py\u001b[0m in \u001b[0;36m<module>\u001b[1;34m\u001b[0m\n\u001b[0;32m      4\u001b[0m                   legend_font_size=14, w_space=0.25, h_space=0.25)\n\u001b[0;32m      5\u001b[0m \u001b[1;33m\u001b[0m\u001b[0m\n\u001b[1;32m----> 6\u001b[1;33m \u001b[0mmean\u001b[0m \u001b[1;33m=\u001b[0m \u001b[0mtest_predicted\u001b[0m\u001b[1;33m.\u001b[0m\u001b[0mmean\u001b[0m\u001b[1;33m(\u001b[0m\u001b[1;33m)\u001b[0m\u001b[1;33m\u001b[0m\u001b[1;33m\u001b[0m\u001b[0m\n\u001b[0m\u001b[0;32m      7\u001b[0m \u001b[0mstd\u001b[0m \u001b[1;33m=\u001b[0m \u001b[0mtest_predicted\u001b[0m\u001b[1;33m.\u001b[0m\u001b[0mstd\u001b[0m\u001b[1;33m(\u001b[0m\u001b[1;33m)\u001b[0m\u001b[1;33m\u001b[0m\u001b[1;33m\u001b[0m\u001b[0m\n\u001b[0;32m      8\u001b[0m \u001b[0mplt\u001b[0m\u001b[1;33m.\u001b[0m\u001b[0mhist\u001b[0m\u001b[1;33m(\u001b[0m\u001b[0mtest_predicted\u001b[0m\u001b[1;33m,\u001b[0m\u001b[0mbins\u001b[0m\u001b[1;33m=\u001b[0m\u001b[1;36m30\u001b[0m\u001b[1;33m)\u001b[0m\u001b[1;33m\u001b[0m\u001b[1;33m\u001b[0m\u001b[0m\n",
      "\u001b[1;31mNameError\u001b[0m: name 'test_predicted' is not defined"
     ]
    },
    {
     "data": {
      "text/plain": [
       "<Figure size 360x216 with 0 Axes>"
      ]
     },
     "metadata": {},
     "output_type": "display_data"
    }
   ],
   "source": [
    "create_figure('', 1, 1, width=5, height=3,\n",
    "                  suptitle_font_size=18, default_font_size=10,\n",
    "                  title_font_size=22, axes_font_size=18, tick_font_size=20,\n",
    "                  legend_font_size=14, w_space=0.25, h_space=0.25)\n",
    "\n",
    "mean = test_predicted.mean()\n",
    "std = test_predicted.std()\n",
    "plt.hist(test_predicted,bins=30)\n",
    "plt.axvline(test_predicted.mean(),color='red',linestyle='--',label=f'Mean: {mean:.3g}')\n",
    "plt.axvline(mean+std,color='purple',linestyle='--',label=f'Std: {std:.3g}')\n",
    "plt.axvline(mean-std,color='purple',linestyle='--')\n",
    "plt.ylabel('Num Predicted')\n",
    "plt.xlabel('Angle (deg)')\n",
    "plt.xlim([15, 45])\n",
    "plt.title(f'Model Predictions on {test_angles[0]}')\n",
    "plt.legend()\n",
    "plt.show()"
   ]
  },
  {
   "cell_type": "code",
   "execution_count": null,
   "id": "1f12a68c",
   "metadata": {},
   "outputs": [],
   "source": []
  },
  {
   "cell_type": "code",
   "execution_count": null,
   "id": "d1a0f93b",
   "metadata": {},
   "outputs": [],
   "source": []
  }
 ],
 "metadata": {
  "kernelspec": {
   "display_name": "Python 3 (ipykernel)",
   "language": "python",
   "name": "python3"
  },
  "language_info": {
   "codemirror_mode": {
    "name": "ipython",
    "version": 3
   },
   "file_extension": ".py",
   "mimetype": "text/x-python",
   "name": "python",
   "nbconvert_exporter": "python",
   "pygments_lexer": "ipython3",
   "version": "3.8.12"
  },
  "varInspector": {
   "cols": {
    "lenName": 16,
    "lenType": 16,
    "lenVar": 40
   },
   "kernels_config": {
    "python": {
     "delete_cmd_postfix": "",
     "delete_cmd_prefix": "del ",
     "library": "var_list.py",
     "varRefreshCmd": "print(var_dic_list())"
    },
    "r": {
     "delete_cmd_postfix": ") ",
     "delete_cmd_prefix": "rm(",
     "library": "var_list.r",
     "varRefreshCmd": "cat(var_dic_list()) "
    }
   },
   "types_to_exclude": [
    "module",
    "function",
    "builtin_function_or_method",
    "instance",
    "_Feature"
   ],
   "window_display": false
  }
 },
 "nbformat": 4,
 "nbformat_minor": 5
}
